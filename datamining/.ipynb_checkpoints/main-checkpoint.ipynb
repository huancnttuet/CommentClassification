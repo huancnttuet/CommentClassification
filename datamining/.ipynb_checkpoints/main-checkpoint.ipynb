{
 "cells": [
  {
   "cell_type": "code",
   "execution_count": 1,
   "metadata": {},
   "outputs": [
    {
     "ename": "ModuleNotFoundError",
     "evalue": "No module named 'configs'",
     "output_type": "error",
     "traceback": [
      "\u001b[1;31m---------------------------------------------------------------------------\u001b[0m",
      "\u001b[1;31mModuleNotFoundError\u001b[0m                       Traceback (most recent call last)",
      "\u001b[1;32m<ipython-input-1-85939e2e6a6d>\u001b[0m in \u001b[0;36m<module>\u001b[1;34m\u001b[0m\n\u001b[0;32m      1\u001b[0m \u001b[1;32mimport\u001b[0m \u001b[0mpandas\u001b[0m \u001b[1;32mas\u001b[0m \u001b[0mpd\u001b[0m\u001b[1;33m\u001b[0m\u001b[1;33m\u001b[0m\u001b[0m\n\u001b[0;32m      2\u001b[0m \u001b[1;32mimport\u001b[0m \u001b[0mnumpy\u001b[0m \u001b[1;32mas\u001b[0m \u001b[0mnp\u001b[0m\u001b[1;33m\u001b[0m\u001b[1;33m\u001b[0m\u001b[0m\n\u001b[1;32m----> 3\u001b[1;33m \u001b[1;32mfrom\u001b[0m \u001b[0mconfigs\u001b[0m \u001b[1;32mimport\u001b[0m \u001b[0mROOT_DIR\u001b[0m\u001b[1;33m\u001b[0m\u001b[1;33m\u001b[0m\u001b[0m\n\u001b[0m\u001b[0;32m      4\u001b[0m \u001b[1;32mfrom\u001b[0m \u001b[0mutils\u001b[0m\u001b[1;33m.\u001b[0m\u001b[0mtransformer\u001b[0m \u001b[1;32mimport\u001b[0m \u001b[0mstandardize_data\u001b[0m\u001b[1;33m,\u001b[0m \u001b[0mtokenizer\u001b[0m\u001b[1;33m\u001b[0m\u001b[1;33m\u001b[0m\u001b[0m\n\u001b[0;32m      5\u001b[0m \u001b[1;32mfrom\u001b[0m \u001b[0msklearn\u001b[0m\u001b[1;33m.\u001b[0m\u001b[0mfeature_extraction\u001b[0m\u001b[1;33m.\u001b[0m\u001b[0mtext\u001b[0m \u001b[1;32mimport\u001b[0m \u001b[0mTfidfVectorizer\u001b[0m\u001b[1;33m,\u001b[0m \u001b[0mCountVectorizer\u001b[0m\u001b[1;33m,\u001b[0m \u001b[0mTfidfTransformer\u001b[0m\u001b[1;33m\u001b[0m\u001b[1;33m\u001b[0m\u001b[0m\n",
      "\u001b[1;31mModuleNotFoundError\u001b[0m: No module named 'configs'"
     ]
    }
   ],
   "source": [
    "import pandas as pd\n",
    "import numpy as np\n",
    "from configs import ROOT_DIR\n",
    "from utils.transformer import standardize_data, tokenizer\n",
    "from sklearn.feature_extraction.text import TfidfVectorizer, CountVectorizer, TfidfTransformer\n",
    "from sklearn.model_selection import train_test_split, KFold\n",
    "from sklearn.svm import SVC\n",
    "from sklearn.model_selection import GridSearchCV\n",
    "from sklearn.linear_model import LinearRegression,LogisticRegression\n",
    "from sklearn.neural_network import MLPClassifier\n",
    "from sklearn.metrics import accuracy_score,classification_report\n",
    "\n",
    "import pickle\n",
    "from sklearn.feature_selection import SelectKBest, f_regression, chi2\n"
   ]
  },
  {
   "cell_type": "code",
   "execution_count": 2,
   "metadata": {
    "tags": []
   },
   "outputs": [
    {
     "name": "stdout",
     "output_type": "stream",
     "text": [
      "9987\n",
      "2\n"
     ]
    }
   ],
   "source": [
    "X_data = pickle.load(open(ROOT_DIR + '\\datamining\\data\\shopee\\X_data.pkl', 'rb'))\n",
    "y_data = pickle.load(open(ROOT_DIR + '\\datamining\\data\\shopee\\y_data.pkl', 'rb'))\n",
    "\n",
    "# X_data.extend(X_data2)\n",
    "# y_data.extend(y_data2)\n",
    "\n",
    "# emb = TfidfVectorizer(min_df=5, max_df=1.0,\n",
    "#                       max_features=3000, sublinear_tf=True)\n",
    "# X = emb.fit_transform(X_data)\n",
    "\n",
    "# # print(emb.get_feature_names())\n",
    "# print(X.shape)\n",
    "# y = np.array(y_data)\n",
    "# X_new = SelectKBest(chi2, k=200).fit_transform(X, y)\n",
    "\n",
    "# print(X_new.shape)\n",
    "# print(type(X_new))\n",
    "# X = X_new\n",
    "X_new = []\n",
    "for x in X_data:\n",
    "    X_new.append(x[0])\n",
    "X = np.array(X_new)\n",
    "y = np.array(y_data)\n",
    "print(len(y_data))\n",
    "print(y[2005])\n",
    "# print(y[0])\n"
   ]
  },
  {
   "cell_type": "code",
   "execution_count": 3,
   "metadata": {},
   "outputs": [],
   "source": [
    "\n",
    "# model = SVC(kernel='linear', C=1)\n",
    "# model = SVC(kernel='linear', probability=True, gamma=1, C =1)\n",
    "\n",
    "# parameters = {'C': [1, 10], \n",
    "#           'gamma': [0.001, 0.01, 1]}\n",
    "# model = SVC()\n",
    "# grid = GridSearchCV(estimator=model, param_grid=parameters)\n",
    "# grid.fit(X, y)\n",
    "# print(grid)\n",
    "# # summarize the results of the grid search\n",
    "# print(grid.best_score_)\n",
    "# print(grid.best_estimator_)\n",
    "model = LogisticRegression(random_state=0)\n",
    "# model = MLPClassifier(hidden_layer_sizes=(64,64,64),activation=\"relu\" ,random_state=1, max_iter=2000)\n"
   ]
  },
  {
   "cell_type": "code",
   "execution_count": 4,
   "metadata": {},
   "outputs": [
    {
     "name": "stdout",
     "output_type": "stream",
     "text": [
      "Bắt đầu train Fold  1\n"
     ]
    }
   ],
   "source": [
    "num_folds = 5\n",
    "kfold = KFold(n_splits=num_folds, shuffle=True)\n",
    " \n",
    "# K-fold Cross Validation model evaluation\n",
    "fold_idx = 1\n",
    "accuracy_list = []\n",
    "for train_ids, val_ids in kfold.split(X, y):\n",
    "    \n",
    "    print(\"Bắt đầu train Fold \", fold_idx)\n",
    "\n",
    "    # Train model\n",
    "    model.fit(X[train_ids], y[train_ids])\n",
    " \n",
    "    # Test và in kết quả\n",
    "    y_pred = model.predict(X[val_ids])\n",
    "    scores = accuracy_score(y[val_ids],y_pred)\n",
    "    print(\"Đã train xong Fold \", fold_idx)\n",
    "    print(scores)\n",
    "    print(classification_report(y[val_ids], y_pred, target_names=['️️   ⭐️  ','   ⭐️⭐  ','  ⭐️⭐️⭐️ ',' ⭐️⭐️⭐️⭐️ ','⭐️⭐️⭐️⭐️⭐️']))\n",
    "    accuracy_list.append(scores * 100)\n",
    "    \n",
    "    # Sang Fold tiếp theo\n",
    "    fold_idx = fold_idx + 1\n",
    "\n",
    "# In kết quả tổng thể\n",
    "print('* Chi tiết các fold')\n",
    "for i in range(0, len(accuracy_list)):\n",
    "    print(f'> Fold {i+1} - Accuracy: {accuracy_list[i]}%')\n",
    " \n",
    "print('* Đánh giá tổng thể các folds:')\n",
    "print(f'> Accuracy: {np.mean(accuracy_list)} (Độ lệch +- {np.std(accuracy_list)})')"
   ]
  },
  {
   "cell_type": "code",
   "execution_count": null,
   "metadata": {},
   "outputs": [],
   "source": []
  }
 ],
 "metadata": {
  "kernelspec": {
   "display_name": ".venv",
   "language": "python",
   "name": ".venv"
  },
  "language_info": {
   "codemirror_mode": {
    "name": "ipython",
    "version": 3
   },
   "file_extension": ".py",
   "mimetype": "text/x-python",
   "name": "python",
   "nbconvert_exporter": "python",
   "pygments_lexer": "ipython3",
   "version": "3.8.5"
  },
  "metadata": {
   "interpreter": {
    "hash": "505a982ef2482993979e4a6536c13153c78bc753f0d5e050478edcb5029d8819"
   }
  }
 },
 "nbformat": 4,
 "nbformat_minor": 2
}
