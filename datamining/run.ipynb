{
 "metadata": {
  "language_info": {
   "codemirror_mode": {
    "name": "ipython",
    "version": 3
   },
   "file_extension": ".py",
   "mimetype": "text/x-python",
   "name": "python",
   "nbconvert_exporter": "python",
   "pygments_lexer": "ipython3",
   "version": "3.8.5"
  },
  "orig_nbformat": 2,
  "kernelspec": {
   "name": "pythonjvsc74a57bd0505a982ef2482993979e4a6536c13153c78bc753f0d5e050478edcb5029d8819",
   "display_name": "Python 3.8.5  ('venv': venv)"
  },
  "metadata": {
   "interpreter": {
    "hash": "505a982ef2482993979e4a6536c13153c78bc753f0d5e050478edcb5029d8819"
   }
  }
 },
 "nbformat": 4,
 "nbformat_minor": 2,
 "cells": [
  {
   "source": [],
   "cell_type": "markdown",
   "metadata": {}
  },
  {
   "cell_type": "code",
   "execution_count": 1,
   "metadata": {},
   "outputs": [],
   "source": [
    "import pandas as pd\n",
    "import numpy as np\n",
    "from configs import ROOT_DIR\n",
    "from utils.transformer import standardize_data, tokenizer\n",
    "from sklearn.feature_extraction.text import TfidfVectorizer, CountVectorizer, TfidfTransformer\n",
    "from sklearn.model_selection import train_test_split, KFold\n",
    "from sklearn.svm import SVC\n",
    "from sklearn.linear_model import LinearRegression,LogisticRegression\n",
    "from sklearn.neural_network import MLPClassifier\n",
    "from sklearn.metrics import accuracy_score,classification_report\n"
   ]
  },
  {
   "cell_type": "code",
   "execution_count": 4,
   "metadata": {},
   "outputs": [
    {
     "output_type": "stream",
     "name": "stderr",
     "text": [
      "<ipython-input-4-eb4aa4cd8865>:2: FutureWarning: Your version of xlrd is 1.2.0. In xlrd >= 2.0, only the xls format is supported. As a result, the openpyxl engine will be used if it is installed and the engine argument is not specified. Install openpyxl instead.\n",
      "  df = pd.read_excel(dataset_file_path)\n",
      "4614\n"
     ]
    }
   ],
   "source": [
    "\n",
    "dataset_file_path = ROOT_DIR + '\\outputs\\comments\\dienthoai\\\\all.xlsx'\n",
    "df = pd.read_excel(dataset_file_path)\n",
    "comments = df.iloc[:, 5]\n",
    "rates = df.iloc[:, 8]\n",
    "\n",
    "comments = comments.apply(standardize_data)\n",
    "comments = comments.apply(tokenizer)\n",
    "\n",
    "\n",
    "print(len(comments))\n"
   ]
  },
  {
   "cell_type": "code",
   "execution_count": 5,
   "metadata": {},
   "outputs": [],
   "source": [
    "def get_model():\n",
    "    # model = SVC(kernel='linear', C=1)\n",
    "    # model = LogisticRegression(random_state=0)\n",
    "    model = MLPClassifier(hidden_layer_sizes=(64,64,64),activation=\"relu\" ,random_state=1, max_iter=2000)\n",
    "    return model\n"
   ]
  },
  {
   "cell_type": "code",
   "execution_count": 6,
   "metadata": {},
   "outputs": [
    {
     "output_type": "stream",
     "name": "stdout",
     "text": [
      "<class 'scipy.sparse.csr.csr_matrix'>\n",
      "(4614, 1127)\n",
      "Bắt đầu train Fold  1\n",
      "Đã train xong Fold  1\n",
      "0.7009750812567714\n",
      "              precision    recall  f1-score   support\n",
      "\n",
      "   ️️   ⭐️         0.54      0.52      0.53        73\n",
      "       ⭐️⭐         0.06      0.04      0.05        27\n",
      "     ⭐️⭐️⭐️        0.17      0.13      0.15        62\n",
      "   ⭐️⭐️⭐️⭐️        0.22      0.22      0.22       103\n",
      "  ⭐️⭐️⭐️⭐️⭐️       0.84      0.88      0.86       658\n",
      "\n",
      "    accuracy                           0.70       923\n",
      "   macro avg       0.37      0.36      0.36       923\n",
      "weighted avg       0.68      0.70      0.69       923\n",
      "\n",
      "Bắt đầu train Fold  2\n",
      "Đã train xong Fold  2\n",
      "0.6803900325027086\n",
      "              precision    recall  f1-score   support\n",
      "\n",
      "   ️️   ⭐️         0.44      0.46      0.45        65\n",
      "       ⭐️⭐         0.08      0.08      0.08        25\n",
      "     ⭐️⭐️⭐️        0.17      0.14      0.16        56\n",
      "   ⭐️⭐️⭐️⭐️        0.26      0.25      0.26       122\n",
      "  ⭐️⭐️⭐️⭐️⭐️       0.84      0.85      0.84       655\n",
      "\n",
      "    accuracy                           0.68       923\n",
      "   macro avg       0.36      0.36      0.36       923\n",
      "weighted avg       0.67      0.68      0.68       923\n",
      "\n",
      "Bắt đầu train Fold  3\n",
      "Đã train xong Fold  3\n",
      "0.6825568797399784\n",
      "              precision    recall  f1-score   support\n",
      "\n",
      "   ️️   ⭐️         0.51      0.49      0.50        63\n",
      "       ⭐️⭐         0.09      0.07      0.08        28\n",
      "     ⭐️⭐️⭐️        0.21      0.17      0.19        59\n",
      "   ⭐️⭐️⭐️⭐️        0.25      0.20      0.22       134\n",
      "  ⭐️⭐️⭐️⭐️⭐️       0.82      0.88      0.85       639\n",
      "\n",
      "    accuracy                           0.68       923\n",
      "   macro avg       0.38      0.36      0.37       923\n",
      "weighted avg       0.65      0.68      0.67       923\n",
      "\n",
      "Bắt đầu train Fold  4\n",
      "Đã train xong Fold  4\n",
      "0.6901408450704225\n",
      "              precision    recall  f1-score   support\n",
      "\n",
      "   ️️   ⭐️         0.46      0.55      0.50        65\n",
      "       ⭐️⭐         0.18      0.14      0.16        36\n",
      "     ⭐️⭐️⭐️        0.15      0.10      0.12        61\n",
      "   ⭐️⭐️⭐️⭐️        0.28      0.24      0.26       125\n",
      "  ⭐️⭐️⭐️⭐️⭐️       0.84      0.88      0.86       636\n",
      "\n",
      "    accuracy                           0.69       923\n",
      "   macro avg       0.38      0.38      0.38       923\n",
      "weighted avg       0.66      0.69      0.68       923\n",
      "\n",
      "Bắt đầu train Fold  5\n",
      "Đã train xong Fold  5\n",
      "0.6616052060737527\n",
      "              precision    recall  f1-score   support\n",
      "\n",
      "   ️️   ⭐️         0.44      0.35      0.39        71\n",
      "       ⭐️⭐         0.00      0.00      0.00        21\n",
      "     ⭐️⭐️⭐️        0.17      0.17      0.17        52\n",
      "   ⭐️⭐️⭐️⭐️        0.22      0.16      0.19       136\n",
      "  ⭐️⭐️⭐️⭐️⭐️       0.81      0.86      0.83       642\n",
      "\n",
      "    accuracy                           0.66       922\n",
      "   macro avg       0.33      0.31      0.32       922\n",
      "weighted avg       0.64      0.66      0.65       922\n",
      "\n",
      "* Chi tiết các fold\n",
      "> Fold 1 - Accuracy: 70.09750812567714%\n",
      "> Fold 2 - Accuracy: 68.03900325027085%\n",
      "> Fold 3 - Accuracy: 68.25568797399784%\n",
      "> Fold 4 - Accuracy: 69.01408450704226%\n",
      "> Fold 5 - Accuracy: 66.16052060737528%\n",
      "* Đánh giá tổng thể các folds:\n",
      "> Accuracy: 68.31336089287268 (Độ lệch +- 1.2951845048690784)\n"
     ]
    }
   ],
   "source": [
    "# X_train, X_test, y_train, y_test = train_test_split(\n",
    "#     comments, rates, test_size=0.2, random_state=42)\n",
    "\n",
    "X = comments\n",
    "y =rates\n",
    "\n",
    "emb = TfidfVectorizer(min_df=5, max_df=1.0,\n",
    "                        max_features=3000, sublinear_tf=True)\n",
    "emb.fit(X)\n",
    "X = emb.transform(X)\n",
    "print(type(X))\n",
    "print(X.shape)\n",
    "num_folds = 5\n",
    "kfold = KFold(n_splits=num_folds, shuffle=True)\n",
    " \n",
    "# K-fold Cross Validation model evaluation\n",
    "fold_idx = 1\n",
    "accuracy_list = []\n",
    "for train_ids, val_ids in kfold.split(X, y):\n",
    "    \n",
    "    model = get_model()\n",
    "    \n",
    "    \n",
    "    print(\"Bắt đầu train Fold \", fold_idx)\n",
    "\n",
    "    # Train model\n",
    "    model.fit(X[train_ids], y[train_ids])\n",
    " \n",
    "    # Test và in kết quả\n",
    "    y_pred = model.predict(X[val_ids])\n",
    "    scores = accuracy_score(y[val_ids],y_pred)\n",
    "    print(\"Đã train xong Fold \", fold_idx)\n",
    "    print(scores)\n",
    "    print(classification_report(y[val_ids], y_pred, target_names=['️️   ⭐️  ','   ⭐️⭐  ','  ⭐️⭐️⭐️ ',' ⭐️⭐️⭐️⭐️ ','⭐️⭐️⭐️⭐️⭐️']))\n",
    "    accuracy_list.append(scores * 100)\n",
    "    \n",
    "    # Sang Fold tiếp theo\n",
    "    fold_idx = fold_idx + 1\n",
    "\n",
    "# In kết quả tổng thể\n",
    "print('* Chi tiết các fold')\n",
    "for i in range(0, len(accuracy_list)):\n",
    "    print(f'> Fold {i+1} - Accuracy: {accuracy_list[i]}%')\n",
    " \n",
    "print('* Đánh giá tổng thể các folds:')\n",
    "print(f'> Accuracy: {np.mean(accuracy_list)} (Độ lệch +- {np.std(accuracy_list)})')\n",
    "\n"
   ]
  },
  {
   "cell_type": "code",
   "execution_count": 6,
   "metadata": {},
   "outputs": [],
   "source": [
    "\n",
    "emb = TfidfVectorizer(min_df=5, max_df=0.8,\n",
    "                      max_features=3000, sublinear_tf=True)\n",
    "emb.fit(X_train)\n",
    "X_train = emb.transform(X_train)\n",
    "X_test = emb.transform(X_test)\n",
    "\n",
    "# cv = CountVectorizer(max_df=0.85)\n",
    "# word_count_vector = cv.fit_transform(pre_datasets)\n",
    "# print(word_count_vector)\n",
    "# print(list(cv.vocabulary_.keys())[:10])\n",
    "\n",
    "# tfidf_transformer = TfidfTransformer(smooth_idf=True, use_idf=True)\n",
    "# tfidf_transformer.fit(word_count_vector)"
   ]
  },
  {
   "cell_type": "code",
   "execution_count": 7,
   "metadata": {},
   "outputs": [
    {
     "output_type": "stream",
     "name": "stdout",
     "text": [
      "Linear Regression : 0.5882990249187432 %\nSVM : 0.7291440953412784 %\n"
     ]
    }
   ],
   "source": [
    "model_LinearRegression = LinearRegression()\n",
    "model_LinearRegression.fit(X_train, y_train)\n",
    "\n",
    "model_SVM = SVC(kernel='linear', C=1)\n",
    "model_SVM.fit(X_train, y_train)\n",
    "\n",
    "y_pred_1 = model_LinearRegression.predict(X_test)\n",
    "y_pred_2 = model_SVM.predict(X_test)\n",
    "\n",
    "y_pred_1 = [(round(y) if y > 1 and y < 5 else (1 if y < 1 else 5))\n",
    "            for y in y_pred_1]\n",
    "\n",
    "print(\"Linear Regression : {} %\".format(accuracy_score(y_test, y_pred_1)))\n",
    "print(\"SVM : {} %\".format(accuracy_score(y_test, y_pred_2)))"
   ]
  },
  {
   "cell_type": "code",
   "execution_count": null,
   "metadata": {},
   "outputs": [],
   "source": []
  }
 ]
}