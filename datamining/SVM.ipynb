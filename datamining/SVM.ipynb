{
  "nbformat": 4,
  "nbformat_minor": 0,
  "metadata": {
    "colab": {
      "name": "SVM.ipynb",
      "provenance": [],
      "collapsed_sections": []
    },
    "kernelspec": {
      "name": "python368jvsc74a57bd0505a982ef2482993979e4a6536c13153c78bc753f0d5e050478edcb5029d8819",
      "display_name": "Python 3.9.5  ('venv': venv)"
    },
    "accelerator": "GPU",
    "metadata": {
      "interpreter": {
        "hash": "505a982ef2482993979e4a6536c13153c78bc753f0d5e050478edcb5029d8819"
      }
    }
  },
  "cells": [
    {
      "cell_type": "markdown",
      "metadata": {
        "id": "4pZrvgxejKwq",
        "colab_type": "text"
      },
      "source": [
        "Library"
      ]
    },
    {
      "cell_type": "code",
      "metadata": {
        "id": "qkeIboKD_Brh",
        "colab_type": "code",
        "outputId": "764f299b-1766-4fee-d9a8-c31e3710cf76",
        "colab": {
          "base_uri": "https://localhost:8080/",
          "height": 80
        }
      },
      "source": [
        "# from pyvi import ViTokenizer, ViPosTagger\n",
        "import numpy as np\n",
        "import pandas as pd\n",
        "# import gensim\n",
        "import sklearn\n",
        "import tensorflow as tf\n",
        "from sklearn import svm\n",
        "from sklearn.model_selection import train_test_split\n",
        "from sklearn.decomposition import TruncatedSVD\n",
        "from sklearn.metrics import classification_report\n",
        "from sklearn.feature_extraction.text import TfidfVectorizer\n",
        "from tensorflow.keras.layers import *\n",
        "from keras.layers import *\n",
        "from keras.preprocessing.text import Tokenizer\n",
        "from keras.models import Model\n",
        "from keras.metrics import sparse_categorical_accuracy\n",
        "from tensorflow.keras.optimizers import Adam\n",
        "from configs import ROOT_DIR\n",
        "import csv\n",
        "from utils.transformer import tokenizer\n"
      ],
      "execution_count": 1,
      "outputs": []
    },
    {
      "cell_type": "markdown",
      "metadata": {
        "id": "c1qO4CypjNIx",
        "colab_type": "text"
      },
      "source": [
        "Data Preparation"
      ]
    },
    {
      "cell_type": "code",
      "metadata": {
        "id": "8XzCfLBJ_Ddx",
        "colab_type": "code",
        "colab": {}
      },
      "source": [
        "# datanewscontent=pd.read_excel(r'path_to_newscontent.xlsx','Sheet1')\n",
        "# datacomment=pd.read_excel(r'path_to_comments.xlsx','Sheet1')\n",
        "\n",
        "dataset_file_path = ROOT_DIR + '\\datamining\\data\\shopee\\data.csv'\n",
        "\n",
        "with open(dataset_file_path, encoding=\"utf-8\") as fp:\n",
        "    reader = csv.reader(fp, delimiter=\",\", quotechar='\"')\n",
        "    # next(reader, None)  # skip the headers\n",
        "    data_read = [row for row in reader]\n",
        "    \n",
        "datarow = [r[0] for r in data_read]\n",
        "labelrow = [r[1] for r in data_read]\n",
        "\n",
        "print(len(datarow))\n",
        "print(len(labelrow))"
      ],
      "execution_count": 2,
      "outputs": [
        {
          "output_type": "stream",
          "name": "stdout",
          "text": [
            "15030\n15030\n"
          ]
        }
      ]
    },
    {
      "source": [
        "Tokenizer"
      ],
      "cell_type": "markdown",
      "metadata": {}
    },
    {
      "cell_type": "code",
      "metadata": {
        "id": "D7lxU-5pAsb2",
        "colab_type": "code",
        "colab": {}
      },
      "source": [
        "datacmt=[]\n",
        "labelcmt=[]\n",
        "i=0\n",
        "for d in datarow:\n",
        "    if labelrow[i] == \"1\" :\n",
        "        labelcmt.append(0)\n",
        "        e=tokenizer(str(d))\n",
        "        datacmt.append(e)\n",
        "    if labelrow[i] == \"3\" :\n",
        "        labelcmt.append(1)\n",
        "        e=tokenizer(str(d))\n",
        "        datacmt.append(e)\n",
        "    if labelrow[i] == \"5\" :\n",
        "        labelcmt.append(2)\n",
        "        e=tokenizer(str(d))\n",
        "        datacmt.append(e)\n",
        "    i+=1\n",
        "print(len(labelcmt))\n",
        "print(len(datacmt))\n",
        "\n"
      ],
      "execution_count": 3,
      "outputs": [
        {
          "output_type": "stream",
          "name": "stdout",
          "text": [
            "9048\n9048\n"
          ]
        }
      ]
    },
    {
      "cell_type": "code",
      "metadata": {
        "id": "vCboT9MKhmKk",
        "colab_type": "code",
        "colab": {}
      },
      "source": [
        "# datanews=[]\n",
        "# for d in datanewscontent['all_lower']:\n",
        "#     e=ViTokenizer.tokenize(str(d))\n",
        "#     datanews.append(e)\n",
        "# labelnews=datanewscontent['label']"
      ],
      "execution_count": 5,
      "outputs": []
    },
    {
      "cell_type": "code",
      "metadata": {
        "id": "JQWucZTmv333",
        "colab_type": "code",
        "colab": {}
      },
      "source": [
        "def truncatedvectors(data,n_components=300):\n",
        "  svd_ngram = TruncatedSVD(n_components=n_components, random_state=42)\n",
        "  svd_ngram.fit(data)\n",
        "  return svd_ngram.transform(data)"
      ],
      "execution_count": 4,
      "outputs": []
    },
    {
      "cell_type": "markdown",
      "metadata": {
        "id": "HHwK_3DvjQ8o",
        "colab_type": "text"
      },
      "source": [
        "TF-IDF"
      ]
    },
    {
      "cell_type": "code",
      "metadata": {
        "id": "98FV-2uuAt4O",
        "colab_type": "code",
        "colab": {}
      },
      "source": [
        "def tfidf(data):\n",
        "  tfidf_vect_ngram = TfidfVectorizer(analyzer='word', max_features=30000, ngram_range=(1, 2))\n",
        "  tfidf_vect_ngram.fit(data)\n",
        "  X_data_tfidf_ngram =  tfidf_vect_ngram.transform(data)\n",
        "  return truncatedvectors(X_data_tfidf_ngram)"
      ],
      "execution_count": 5,
      "outputs": []
    },
    {
      "cell_type": "code",
      "metadata": {
        "id": "X5bph6DIA-9t",
        "colab_type": "code",
        "colab": {}
      },
      "source": [
        "X_data_tfidf_cmt=tfidf(datacmt)\n"
      ],
      "execution_count": 8,
      "outputs": []
    },
    {
      "cell_type": "markdown",
      "metadata": {
        "id": "X_RzuvwIaA3Y",
        "colab_type": "text"
      },
      "source": [
        "Word2vec"
      ]
    },
    {
      "cell_type": "code",
      "metadata": {
        "id": "dTkV84SNaB3G",
        "colab_type": "code",
        "colab": {}
      },
      "source": [
        "# from gensim.models import Word2Vec,KeyedVectors \n",
        "# import os\n",
        "# word2vec_model_path =\"path_to_wikivimodel.bin\"\n",
        "# model = KeyedVectors.load_word2vec_format(word2vec_model_path,binary=True, unicode_errors='ignore')\n",
        "# vocab = model.wv.vocab\n",
        "# wv = model.wv"
      ],
      "execution_count": 9,
      "outputs": [
        {
          "output_type": "error",
          "ename": "ModuleNotFoundError",
          "evalue": "No module named 'gensim'",
          "traceback": [
            "\u001b[1;31m---------------------------------------------------------------------------\u001b[0m",
            "\u001b[1;31mModuleNotFoundError\u001b[0m                       Traceback (most recent call last)",
            "\u001b[1;32m<ipython-input-9-992fbb5882e7>\u001b[0m in \u001b[0;36m<module>\u001b[1;34m\u001b[0m\n\u001b[1;32m----> 1\u001b[1;33m \u001b[1;32mfrom\u001b[0m \u001b[0mgensim\u001b[0m\u001b[1;33m.\u001b[0m\u001b[0mmodels\u001b[0m \u001b[1;32mimport\u001b[0m \u001b[0mWord2Vec\u001b[0m\u001b[1;33m,\u001b[0m\u001b[0mKeyedVectors\u001b[0m\u001b[1;33m\u001b[0m\u001b[1;33m\u001b[0m\u001b[0m\n\u001b[0m\u001b[0;32m      2\u001b[0m \u001b[1;32mimport\u001b[0m \u001b[0mos\u001b[0m\u001b[1;33m\u001b[0m\u001b[1;33m\u001b[0m\u001b[0m\n\u001b[0;32m      3\u001b[0m \u001b[0mword2vec_model_path\u001b[0m \u001b[1;33m=\u001b[0m\u001b[1;34m\"path_to_wikivimodel.bin\"\u001b[0m\u001b[1;33m\u001b[0m\u001b[1;33m\u001b[0m\u001b[0m\n\u001b[0;32m      4\u001b[0m \u001b[0mmodel\u001b[0m \u001b[1;33m=\u001b[0m \u001b[0mKeyedVectors\u001b[0m\u001b[1;33m.\u001b[0m\u001b[0mload_word2vec_format\u001b[0m\u001b[1;33m(\u001b[0m\u001b[0mword2vec_model_path\u001b[0m\u001b[1;33m,\u001b[0m\u001b[0mbinary\u001b[0m\u001b[1;33m=\u001b[0m\u001b[1;32mTrue\u001b[0m\u001b[1;33m,\u001b[0m \u001b[0municode_errors\u001b[0m\u001b[1;33m=\u001b[0m\u001b[1;34m'ignore'\u001b[0m\u001b[1;33m)\u001b[0m\u001b[1;33m\u001b[0m\u001b[1;33m\u001b[0m\u001b[0m\n\u001b[0;32m      5\u001b[0m \u001b[0mvocab\u001b[0m \u001b[1;33m=\u001b[0m \u001b[0mmodel\u001b[0m\u001b[1;33m.\u001b[0m\u001b[0mwv\u001b[0m\u001b[1;33m.\u001b[0m\u001b[0mvocab\u001b[0m\u001b[1;33m\u001b[0m\u001b[1;33m\u001b[0m\u001b[0m\n",
            "\u001b[1;31mModuleNotFoundError\u001b[0m: No module named 'gensim'"
          ]
        }
      ]
    },
    {
      "cell_type": "code",
      "metadata": {
        "id": "lv_1AVxiaDzW",
        "colab_type": "code",
        "colab": {}
      },
      "source": [
        "# def get_word2vec_data(X):\n",
        "#     word2vec_data = []\n",
        "#     for x in X:\n",
        "#         sentence = []\n",
        "#         for word in x.split(\" \"):\n",
        "#             if word in vocab:\n",
        "#               sentence=sentence+wv[word].ravel().tolist()\n",
        "#         word2vec_data.append(sentence)\n",
        "\n",
        "#     return word2vec_data\n",
        "# def change_to_word2vec(data):\n",
        "#   data2vec=get_word2vec_data(data)\n",
        "#   lengthOfdata=[len(data2vec[i]) for i,n in enumerate(data2vec)]\n",
        "#   for i,n in enumerate(data):\n",
        "#     if(len(data2vec[i])<max(lengthOfdata)):\n",
        "#       for j in range(1,(max(lengthOfdata)-len(data2vec[i]))+1):\n",
        "#         data2vec[i].append(0)\n",
        "#   return truncatedvectors(np.array(data2vec))"
      ],
      "execution_count": 0,
      "outputs": []
    },
    {
      "cell_type": "code",
      "metadata": {
        "id": "W3JrnjMtaFaG",
        "colab_type": "code",
        "colab": {}
      },
      "source": [
        "# X_data_w2v_cmt=change_to_word2vec(datacmt)\n",
        "# X_data_w2v_news=change_to_word2vec(datanews)"
      ],
      "execution_count": 0,
      "outputs": []
    },
    {
      "cell_type": "markdown",
      "metadata": {
        "id": "QNBxOuNgx9EF",
        "colab_type": "text"
      },
      "source": [
        "Bag Of Words"
      ]
    },
    {
      "cell_type": "code",
      "metadata": {
        "id": "Jle1f2eAx8gG",
        "colab_type": "code",
        "colab": {}
      },
      "source": [
        "def bow(data):\n",
        "  tokenizer = Tokenizer()\n",
        "  tokenizer.fit_on_texts(dataall)\n",
        "  datacmtbow = tokenizer.texts_to_sequences(data)\n",
        "  datacmtbow= pad_sequences(datacmtbow, maxlen=300)\n",
        "  return datacmtbow"
      ],
      "execution_count": 6,
      "outputs": []
    },
    {
      "cell_type": "code",
      "metadata": {
        "id": "jInxxQ4wyUTN",
        "colab_type": "code",
        "colab": {}
      },
      "source": [
        "X_data_bow_cmt=bow(datacmt)\n",
        "# X_data_bow_news=bow(datanews)"
      ],
      "execution_count": 7,
      "outputs": [
        {
          "output_type": "error",
          "ename": "NameError",
          "evalue": "name 'dataall' is not defined",
          "traceback": [
            "\u001b[1;31m---------------------------------------------------------------------------\u001b[0m",
            "\u001b[1;31mNameError\u001b[0m                                 Traceback (most recent call last)",
            "\u001b[1;32m<ipython-input-7-04e3429436b1>\u001b[0m in \u001b[0;36m<module>\u001b[1;34m\u001b[0m\n\u001b[1;32m----> 1\u001b[1;33m \u001b[0mX_data_bow_cmt\u001b[0m\u001b[1;33m=\u001b[0m\u001b[0mbow\u001b[0m\u001b[1;33m(\u001b[0m\u001b[0mdatacmt\u001b[0m\u001b[1;33m)\u001b[0m\u001b[1;33m\u001b[0m\u001b[1;33m\u001b[0m\u001b[0m\n\u001b[0m\u001b[0;32m      2\u001b[0m \u001b[1;31m# X_data_bow_news=bow(datanews)\u001b[0m\u001b[1;33m\u001b[0m\u001b[1;33m\u001b[0m\u001b[1;33m\u001b[0m\u001b[0m\n",
            "\u001b[1;32m<ipython-input-6-7339ee2e612d>\u001b[0m in \u001b[0;36mbow\u001b[1;34m(data)\u001b[0m\n\u001b[0;32m      1\u001b[0m \u001b[1;32mdef\u001b[0m \u001b[0mbow\u001b[0m\u001b[1;33m(\u001b[0m\u001b[0mdata\u001b[0m\u001b[1;33m)\u001b[0m\u001b[1;33m:\u001b[0m\u001b[1;33m\u001b[0m\u001b[1;33m\u001b[0m\u001b[0m\n\u001b[0;32m      2\u001b[0m   \u001b[0mtokenizer\u001b[0m \u001b[1;33m=\u001b[0m \u001b[0mTokenizer\u001b[0m\u001b[1;33m(\u001b[0m\u001b[1;33m)\u001b[0m\u001b[1;33m\u001b[0m\u001b[1;33m\u001b[0m\u001b[0m\n\u001b[1;32m----> 3\u001b[1;33m   \u001b[0mtokenizer\u001b[0m\u001b[1;33m.\u001b[0m\u001b[0mfit_on_texts\u001b[0m\u001b[1;33m(\u001b[0m\u001b[0mdataall\u001b[0m\u001b[1;33m)\u001b[0m\u001b[1;33m\u001b[0m\u001b[1;33m\u001b[0m\u001b[0m\n\u001b[0m\u001b[0;32m      4\u001b[0m   \u001b[0mdatacmtbow\u001b[0m \u001b[1;33m=\u001b[0m \u001b[0mtokenizer\u001b[0m\u001b[1;33m.\u001b[0m\u001b[0mtexts_to_sequences\u001b[0m\u001b[1;33m(\u001b[0m\u001b[0mdata\u001b[0m\u001b[1;33m)\u001b[0m\u001b[1;33m\u001b[0m\u001b[1;33m\u001b[0m\u001b[0m\n\u001b[0;32m      5\u001b[0m   \u001b[0mdatacmtbow\u001b[0m\u001b[1;33m=\u001b[0m \u001b[0mpad_sequences\u001b[0m\u001b[1;33m(\u001b[0m\u001b[0mdatacmtbow\u001b[0m\u001b[1;33m,\u001b[0m \u001b[0mmaxlen\u001b[0m\u001b[1;33m=\u001b[0m\u001b[1;36m300\u001b[0m\u001b[1;33m)\u001b[0m\u001b[1;33m\u001b[0m\u001b[1;33m\u001b[0m\u001b[0m\n",
            "\u001b[1;31mNameError\u001b[0m: name 'dataall' is not defined"
          ]
        }
      ]
    },
    {
      "cell_type": "markdown",
      "metadata": {
        "id": "qWaLwigDjTed",
        "colab_type": "text"
      },
      "source": [
        "SVM"
      ]
    },
    {
      "cell_type": "code",
      "metadata": {
        "id": "ooWdz03QbC7m",
        "colab_type": "code",
        "colab": {}
      },
      "source": [
        "#Change: [X_data_tfidf_cmt,  X_data_w2v_cmt, X_data_bow_cmt],labelcmt , [X_data_tfidf_news,X_data_bow_news,X_data_w2v_news], labelnews\n",
        "X_train, X_val, y_train, y_val = train_test_split(X_data_tfidf_cmt, labelcmt, test_size=0.2, random_state=42)"
      ],
      "execution_count": 10,
      "outputs": []
    },
    {
      "cell_type": "code",
      "metadata": {
        "id": "yQ_mz_KUBDe2",
        "colab_type": "code",
        "colab": {}
      },
      "source": [
        "#kernel:linear, rbf\n",
        "#gamma: [1e-3,5e-3,1e-2,5e-2,1e-1,5e-1,1e]\n",
        "#C: [1,10,100,1000]\n",
        "#You can change this parameters to have the best answer\n",
        "clf=svm.SVC(kernel='linear',C=1000, gamma=1)\n",
        "clf.fit(X_train, y_train)\n",
        "val_predictions = clf.predict(X_val)\n",
        "print(classification_report(val_predictions, y_val))"
      ],
      "execution_count": 16,
      "outputs": [
        {
          "output_type": "stream",
          "name": "stdout",
          "text": [
            "              precision    recall  f1-score   support\n\n           0       0.77      0.71      0.74       904\n           1       0.52      0.61      0.56       508\n           2       0.75      0.74      0.74       398\n\n    accuracy                           0.69      1810\n   macro avg       0.68      0.68      0.68      1810\nweighted avg       0.70      0.69      0.69      1810\n\n"
          ]
        }
      ]
    },
    {
      "cell_type": "code",
      "execution_count": null,
      "metadata": {},
      "outputs": [],
      "source": []
    }
  ]
}